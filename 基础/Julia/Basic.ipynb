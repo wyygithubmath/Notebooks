{
 "cells": [
  {
   "cell_type": "markdown",
   "metadata": {},
   "source": [
    "## 安装扩展包"
   ]
  },
  {
   "cell_type": "markdown",
   "metadata": {},
   "source": [
    "```julia\n",
    "Pkg.add(\"package_name\")\n",
    "Pkg.clone(\"git://github.com\")\n",
    "```"
   ]
  },
  {
   "cell_type": "code",
   "execution_count": 1,
   "metadata": {},
   "outputs": [
    {
     "data": {
      "text/plain": [
       "\"/Users/wyy/PycharmProjects/Notebooks/基础/Julia\""
      ]
     },
     "execution_count": 1,
     "metadata": {},
     "output_type": "execute_result"
    }
   ],
   "source": [
    "pwd()"
   ]
  },
  {
   "cell_type": "code",
   "execution_count": 4,
   "metadata": {},
   "outputs": [
    {
     "name": "stdout",
     "output_type": "stream",
     "text": [
      "search: \u001b[0m\u001b[1ms\u001b[22m\u001b[0m\u001b[1mq\u001b[22m\u001b[0m\u001b[1mr\u001b[22m\u001b[0m\u001b[1mt\u001b[22m i\u001b[0m\u001b[1ms\u001b[22m\u001b[0m\u001b[1mq\u001b[22m\u001b[0m\u001b[1mr\u001b[22m\u001b[0m\u001b[1mt\u001b[22m\n",
      "\n"
     ]
    },
    {
     "data": {
      "text/latex": [
       "\\begin{verbatim}\n",
       "sqrt(x)\n",
       "\\end{verbatim}\n",
       "Return $\\sqrt{x}$. Throws \\href{@ref}{\\texttt{DomainError}} for negative \\href{@ref}{\\texttt{Real}} arguments. Use complex negative arguments instead. The prefix operator \\texttt{√} is equivalent to \\texttt{sqrt}.\n",
       "\n",
       "\\section{Examples}\n",
       "\\begin{verbatim}\n",
       "julia> sqrt(big(81))\n",
       "9.0\n",
       "\n",
       "julia> sqrt(big(-81))\n",
       "ERROR: DomainError with -81.0:\n",
       "NaN result for non-NaN input.\n",
       "Stacktrace:\n",
       " [1] sqrt(::BigFloat) at ./mpfr.jl:501\n",
       "[...]\n",
       "\n",
       "julia> sqrt(big(complex(-81)))\n",
       "0.0 + 9.0im\n",
       "\\end{verbatim}\n",
       "\\rule{\\textwidth}{1pt}\n",
       "\\begin{verbatim}\n",
       "sqrt(A::AbstractMatrix)\n",
       "\\end{verbatim}\n",
       "If \\texttt{A} has no negative real eigenvalues, compute the principal matrix square root of \\texttt{A}, that is the unique matrix $X$ with eigenvalues having positive real part such that $X^2 = A$. Otherwise, a nonprincipal square root is returned.\n",
       "\n",
       "If \\texttt{A} is symmetric or Hermitian, its eigendecomposition (\\href{@ref}{\\texttt{eigen}}) is used to compute the square root. Otherwise, the square root is determined by means of the Björck-Hammarling method \\footnotemark[BH83], which computes the complex Schur form (\\href{@ref}{\\texttt{schur}}) and then the complex square root of the triangular factor.\n",
       "\n",
       "\\footnotetext[BH83]{Åke Björck and Sven Hammarling, \"A Schur method for the square root of a matrix\", Linear Algebra and its Applications, 52-53, 1983, 127-140. \\href{https://doi.org/10.1016/0024-3795(83)80010-X}{doi:10.1016/0024-3795(83)80010-X}\n",
       "\n",
       "}\n",
       "\\section{Examples}\n",
       "\\begin{verbatim}\n",
       "julia> A = [4 0; 0 4]\n",
       "2×2 Array{Int64,2}:\n",
       " 4  0\n",
       " 0  4\n",
       "\n",
       "julia> sqrt(A)\n",
       "2×2 Array{Float64,2}:\n",
       " 2.0  0.0\n",
       " 0.0  2.0\n",
       "\\end{verbatim}\n"
      ],
      "text/markdown": [
       "```\n",
       "sqrt(x)\n",
       "```\n",
       "\n",
       "Return $\\sqrt{x}$. Throws [`DomainError`](@ref) for negative [`Real`](@ref) arguments. Use complex negative arguments instead. The prefix operator `√` is equivalent to `sqrt`.\n",
       "\n",
       "# Examples\n",
       "\n",
       "```jldoctest; filter = r\"Stacktrace:(\\n \\[[0-9]+\\].*)*\"\n",
       "julia> sqrt(big(81))\n",
       "9.0\n",
       "\n",
       "julia> sqrt(big(-81))\n",
       "ERROR: DomainError with -81.0:\n",
       "NaN result for non-NaN input.\n",
       "Stacktrace:\n",
       " [1] sqrt(::BigFloat) at ./mpfr.jl:501\n",
       "[...]\n",
       "\n",
       "julia> sqrt(big(complex(-81)))\n",
       "0.0 + 9.0im\n",
       "```\n",
       "\n",
       "---\n",
       "\n",
       "```\n",
       "sqrt(A::AbstractMatrix)\n",
       "```\n",
       "\n",
       "If `A` has no negative real eigenvalues, compute the principal matrix square root of `A`, that is the unique matrix $X$ with eigenvalues having positive real part such that $X^2 = A$. Otherwise, a nonprincipal square root is returned.\n",
       "\n",
       "If `A` is symmetric or Hermitian, its eigendecomposition ([`eigen`](@ref)) is used to compute the square root. Otherwise, the square root is determined by means of the Björck-Hammarling method [^BH83], which computes the complex Schur form ([`schur`](@ref)) and then the complex square root of the triangular factor.\n",
       "\n",
       "[^BH83]: Åke Björck and Sven Hammarling, \"A Schur method for the square root of a matrix\", Linear Algebra and its Applications, 52-53, 1983, 127-140. [doi:10.1016/0024-3795(83)80010-X](https://doi.org/10.1016/0024-3795(83)80010-X)\n",
       "\n",
       "# Examples\n",
       "\n",
       "```jldoctest\n",
       "julia> A = [4 0; 0 4]\n",
       "2×2 Array{Int64,2}:\n",
       " 4  0\n",
       " 0  4\n",
       "\n",
       "julia> sqrt(A)\n",
       "2×2 Array{Float64,2}:\n",
       " 2.0  0.0\n",
       " 0.0  2.0\n",
       "```\n"
      ],
      "text/plain": [
       "\u001b[36m  sqrt(x)\u001b[39m\n",
       "\n",
       "  Return \u001b[35m\\sqrt{x}\u001b[39m. Throws \u001b[36mDomainError\u001b[39m for negative \u001b[36mReal\u001b[39m arguments. Use complex\n",
       "  negative arguments instead. The prefix operator \u001b[36m√\u001b[39m is equivalent to \u001b[36msqrt\u001b[39m.\n",
       "\n",
       "\u001b[1m  Examples\u001b[22m\n",
       "\u001b[1m  ≡≡≡≡≡≡≡≡≡≡\u001b[22m\n",
       "\n",
       "\u001b[36m  julia> sqrt(big(81))\u001b[39m\n",
       "\u001b[36m  9.0\u001b[39m\n",
       "\u001b[36m  \u001b[39m\n",
       "\u001b[36m  julia> sqrt(big(-81))\u001b[39m\n",
       "\u001b[36m  ERROR: DomainError with -81.0:\u001b[39m\n",
       "\u001b[36m  NaN result for non-NaN input.\u001b[39m\n",
       "\u001b[36m  Stacktrace:\u001b[39m\n",
       "\u001b[36m   [1] sqrt(::BigFloat) at ./mpfr.jl:501\u001b[39m\n",
       "\u001b[36m  [...]\u001b[39m\n",
       "\u001b[36m  \u001b[39m\n",
       "\u001b[36m  julia> sqrt(big(complex(-81)))\u001b[39m\n",
       "\u001b[36m  0.0 + 9.0im\u001b[39m\n",
       "\n",
       "  ────────────────────────────────────────────────────────────────────────────\n",
       "\n",
       "\u001b[36m  sqrt(A::AbstractMatrix)\u001b[39m\n",
       "\n",
       "  If \u001b[36mA\u001b[39m has no negative real eigenvalues, compute the principal matrix square\n",
       "  root of \u001b[36mA\u001b[39m, that is the unique matrix \u001b[35mX\u001b[39m with eigenvalues having positive real\n",
       "  part such that \u001b[35mX^2 = A\u001b[39m. Otherwise, a nonprincipal square root is returned.\n",
       "\n",
       "  If \u001b[36mA\u001b[39m is symmetric or Hermitian, its eigendecomposition (\u001b[36meigen\u001b[39m) is used to\n",
       "  compute the square root. Otherwise, the square root is determined by means\n",
       "  of the Björck-Hammarling method \u001b[1m[^BH83]\u001b[22m, which computes the complex Schur\n",
       "  form (\u001b[36mschur\u001b[39m) and then the complex square root of the triangular factor.\n",
       "\n",
       "  │ \u001b[0m\u001b[1m[^BH83]\u001b[22m\n",
       "  │\n",
       "  │  Åke Björck and Sven Hammarling, \"A Schur method for the square\n",
       "  │  root of a matrix\", Linear Algebra and its Applications, 52-53,\n",
       "  │  1983, 127-140. doi:10.1016/0024-3795(83)80010-X\n",
       "  │  (https://doi.org/10.1016/0024-3795(83)80010-X)\n",
       "\n",
       "\u001b[1m  Examples\u001b[22m\n",
       "\u001b[1m  ≡≡≡≡≡≡≡≡≡≡\u001b[22m\n",
       "\n",
       "\u001b[36m  julia> A = [4 0; 0 4]\u001b[39m\n",
       "\u001b[36m  2×2 Array{Int64,2}:\u001b[39m\n",
       "\u001b[36m   4  0\u001b[39m\n",
       "\u001b[36m   0  4\u001b[39m\n",
       "\u001b[36m  \u001b[39m\n",
       "\u001b[36m  julia> sqrt(A)\u001b[39m\n",
       "\u001b[36m  2×2 Array{Float64,2}:\u001b[39m\n",
       "\u001b[36m   2.0  0.0\u001b[39m\n",
       "\u001b[36m   0.0  2.0\u001b[39m"
      ]
     },
     "execution_count": 4,
     "metadata": {},
     "output_type": "execute_result"
    }
   ],
   "source": [
    "? sqrt"
   ]
  },
  {
   "cell_type": "code",
   "execution_count": null,
   "metadata": {},
   "outputs": [],
   "source": []
  }
 ],
 "metadata": {
  "kernelspec": {
   "display_name": "Julia 1.2.0",
   "language": "julia",
   "name": "julia-1.2"
  },
  "language_info": {
   "file_extension": ".jl",
   "mimetype": "application/julia",
   "name": "julia",
   "version": "1.2.0"
  }
 },
 "nbformat": 4,
 "nbformat_minor": 2
}
