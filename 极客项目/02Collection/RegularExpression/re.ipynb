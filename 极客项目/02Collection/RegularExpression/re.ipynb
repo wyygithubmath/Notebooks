{
 "cells": [
  {
   "cell_type": "markdown",
   "metadata": {},
   "source": [
    "## Regular Expression"
   ]
  },
  {
   "cell_type": "code",
   "execution_count": 1,
   "metadata": {
    "collapsed": true
   },
   "outputs": [],
   "source": [
    "import re"
   ]
  },
  {
   "cell_type": "code",
   "execution_count": 2,
   "metadata": {
    "collapsed": true
   },
   "outputs": [],
   "source": [
    "file_path = \"../Data/AliceInWonderland.txt\""
   ]
  },
  {
   "cell_type": "code",
   "execution_count": 3,
   "metadata": {
    "collapsed": true
   },
   "outputs": [],
   "source": [
    "with open(file_path) as data_file:\n",
    "    contents_string = data_file.read()"
   ]
  },
  {
   "cell_type": "code",
   "execution_count": 9,
   "metadata": {
    "collapsed": false
   },
   "outputs": [
    {
     "data": {
      "text/plain": [
       "51722"
      ]
     },
     "execution_count": 9,
     "metadata": {},
     "output_type": "execute_result"
    }
   ],
   "source": [
    "len(contents_string)"
   ]
  },
  {
   "cell_type": "code",
   "execution_count": 6,
   "metadata": {
    "collapsed": false
   },
   "outputs": [],
   "source": [
    "with open(file_path) as data_file:\n",
    "    contents_line = data_file.readlines()"
   ]
  },
  {
   "cell_type": "code",
   "execution_count": 8,
   "metadata": {
    "collapsed": false
   },
   "outputs": [
    {
     "data": {
      "text/plain": [
       "1"
      ]
     },
     "execution_count": 8,
     "metadata": {},
     "output_type": "execute_result"
    }
   ],
   "source": [
    "len(contents_line)"
   ]
  },
  {
   "cell_type": "markdown",
   "metadata": {},
   "source": [
    "+ match\n",
    "+ search"
   ]
  },
  {
   "cell_type": "code",
   "execution_count": 10,
   "metadata": {
    "collapsed": true
   },
   "outputs": [],
   "source": [
    "test_string = contents_string[0:1000]"
   ]
  },
  {
   "cell_type": "code",
   "execution_count": 16,
   "metadata": {
    "collapsed": false
   },
   "outputs": [
    {
     "data": {
      "text/plain": [
       "['m', 'm', 'm', 'm', 'm', 'm']"
      ]
     },
     "execution_count": 16,
     "metadata": {},
     "output_type": "execute_result"
    }
   ],
   "source": [
    "patt = \"m\"\n",
    "re_com = re.compile(patt)\n",
    "re_com.findall(test_string)"
   ]
  },
  {
   "cell_type": "code",
   "execution_count": 17,
   "metadata": {
    "collapsed": false
   },
   "outputs": [
    {
     "data": {
      "text/plain": [
       "['mi', 'ma', 'ma', 'ma', 'mu', 'mi']"
      ]
     },
     "execution_count": 17,
     "metadata": {},
     "output_type": "execute_result"
    }
   ],
   "source": [
    "patt = \"m.\"\n",
    "re_com = re.compile(patt)\n",
    "re_com.findall(test_string)"
   ]
  },
  {
   "cell_type": "code",
   "execution_count": 18,
   "metadata": {
    "collapsed": false
   },
   "outputs": [
    {
     "data": {
      "text/plain": [
       "[' mi', ' ma', ' ma', 'ema', ' mu', ' mi']"
      ]
     },
     "execution_count": 18,
     "metadata": {},
     "output_type": "execute_result"
    }
   ],
   "source": [
    "patt = \".m.\"\n",
    "re_com = re.compile(patt)\n",
    "re_com.findall(test_string)"
   ]
  },
  {
   "cell_type": "code",
   "execution_count": 22,
   "metadata": {
    "collapsed": false
   },
   "outputs": [
    {
     "data": {
      "text/plain": [
       "['was',\n",
       " 'ban',\n",
       " ' an',\n",
       " 'hav',\n",
       " 'had',\n",
       " 'was',\n",
       " 'ead',\n",
       " 'had',\n",
       " 'sat',\n",
       " '\"an',\n",
       " 'hat',\n",
       " ' a ',\n",
       " 'sat',\n",
       " 'was',\n",
       " '(as',\n",
       " ' as',\n",
       " 'day',\n",
       " 'mad',\n",
       " ' an',\n",
       " 'eas',\n",
       " 'mak',\n",
       " ' a ',\n",
       " 'dai',\n",
       " 'hai',\n",
       " ' an',\n",
       " 'dai',\n",
       " ' a ',\n",
       " 'Rab',\n",
       " 'ran',\n",
       " 'was',\n",
       " 'mar',\n",
       " 'kab',\n",
       " 'hat',\n",
       " 'way',\n",
       " 'ear',\n",
       " 'Rab',\n",
       " 'say',\n",
       " 'ear',\n",
       " 'ear',\n",
       " 'hal',\n",
       " 'lat',\n",
       " 'Rab',\n",
       " ' ac',\n",
       " 'ual',\n",
       " ' a ',\n",
       " 'wat',\n",
       " 'wai',\n",
       " 'oat',\n",
       " ' an',\n",
       " ' at',\n",
       " ' an',\n",
       " 'tar',\n",
       " 'las',\n",
       " ' ac',\n",
       " 'hat',\n",
       " 'had',\n",
       " ' a ',\n",
       " 'rab']"
      ]
     },
     "execution_count": 22,
     "metadata": {},
     "output_type": "execute_result"
    }
   ],
   "source": [
    "patt = \".a.\"\n",
    "re_com = re.compile(patt)\n",
    "re_com.findall(test_string)"
   ]
  },
  {
   "cell_type": "markdown",
   "metadata": {},
   "source": [
    "## one group"
   ]
  },
  {
   "cell_type": "code",
   "execution_count": 23,
   "metadata": {
    "collapsed": false
   },
   "outputs": [
    {
     "data": {
      "text/plain": [
       "['hav',\n",
       " 'had',\n",
       " 'had',\n",
       " 'hat',\n",
       " 'mad',\n",
       " 'mak',\n",
       " 'hai',\n",
       " 'mar',\n",
       " 'kab',\n",
       " 'hat',\n",
       " 'hal',\n",
       " 'lat',\n",
       " 'las',\n",
       " 'hat',\n",
       " 'had']"
      ]
     },
     "execution_count": 23,
     "metadata": {},
     "output_type": "execute_result"
    }
   ],
   "source": [
    "patt = \"[h-n]a.\"\n",
    "re_com = re.compile(patt)\n",
    "re_com.findall(test_string)"
   ]
  },
  {
   "cell_type": "code",
   "execution_count": 24,
   "metadata": {
    "collapsed": false
   },
   "outputs": [
    {
     "data": {
      "text/plain": [
       "['was',\n",
       " 'ban',\n",
       " ' an',\n",
       " 'was',\n",
       " 'ead',\n",
       " 'sat',\n",
       " '\"an',\n",
       " ' a ',\n",
       " 'sat',\n",
       " 'was',\n",
       " '(as',\n",
       " ' as',\n",
       " 'day',\n",
       " ' an',\n",
       " 'eas',\n",
       " ' a ',\n",
       " 'dai',\n",
       " ' an',\n",
       " 'dai',\n",
       " ' a ',\n",
       " 'Rab',\n",
       " 'ran',\n",
       " 'was',\n",
       " 'way',\n",
       " 'ear',\n",
       " 'Rab',\n",
       " 'say',\n",
       " 'ear',\n",
       " 'ear',\n",
       " 'Rab',\n",
       " ' ac',\n",
       " 'ual',\n",
       " ' a ',\n",
       " 'wat',\n",
       " 'wai',\n",
       " 'oat',\n",
       " ' an',\n",
       " ' at',\n",
       " ' an',\n",
       " 'tar',\n",
       " ' ac',\n",
       " ' a ',\n",
       " 'rab']"
      ]
     },
     "execution_count": 24,
     "metadata": {},
     "output_type": "execute_result"
    }
   ],
   "source": [
    "patt = \"[^h-n]a.\"\n",
    "re_com = re.compile(patt)\n",
    "re_com.findall(test_string)"
   ]
  },
  {
   "cell_type": "markdown",
   "metadata": {},
   "source": [
    "- /d /D\n",
    "- /w /W\n",
    "- /s /S"
   ]
  },
  {
   "cell_type": "code",
   "execution_count": null,
   "metadata": {
    "collapsed": true
   },
   "outputs": [],
   "source": []
  },
  {
   "cell_type": "markdown",
   "metadata": {},
   "source": [
    "- {m} {m,n}\n",
    "- *? +? ??"
   ]
  },
  {
   "cell_type": "code",
   "execution_count": null,
   "metadata": {
    "collapsed": true
   },
   "outputs": [],
   "source": []
  },
  {
   "cell_type": "markdown",
   "metadata": {},
   "source": [
    "## Python Method\n",
    "- re.match(pattern, string, flags=0)\n",
    "- re.search(pattern, string, flags=0)\n",
    "- re.sub(pattern, repl, string, max=0)"
   ]
  },
  {
   "cell_type": "code",
   "execution_count": 32,
   "metadata": {
    "collapsed": false
   },
   "outputs": [
    {
     "data": {
      "text/plain": [
       "'.csv'"
      ]
     },
     "execution_count": 32,
     "metadata": {},
     "output_type": "execute_result"
    }
   ],
   "source": [
    "re.search('\\.csv',myStr).group()"
   ]
  },
  {
   "cell_type": "code",
   "execution_count": null,
   "metadata": {
    "collapsed": true
   },
   "outputs": [],
   "source": []
  }
 ],
 "metadata": {
  "anaconda-cloud": {},
  "kernelspec": {
   "display_name": "Python [conda root]",
   "language": "python",
   "name": "conda-root-py"
  },
  "language_info": {
   "codemirror_mode": {
    "name": "ipython",
    "version": 3
   },
   "file_extension": ".py",
   "mimetype": "text/x-python",
   "name": "python",
   "nbconvert_exporter": "python",
   "pygments_lexer": "ipython3",
   "version": "3.5.2"
  }
 },
 "nbformat": 4,
 "nbformat_minor": 0
}
