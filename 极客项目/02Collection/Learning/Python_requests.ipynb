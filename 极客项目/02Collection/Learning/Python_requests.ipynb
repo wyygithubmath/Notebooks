{
 "cells": [
  {
   "cell_type": "code",
   "execution_count": 1,
   "metadata": {
    "collapsed": true
   },
   "outputs": [],
   "source": [
    "import requests\n",
    "from bs4 import BeautifulSoup"
   ]
  },
  {
   "cell_type": "code",
   "execution_count": 2,
   "metadata": {
    "collapsed": true
   },
   "outputs": [],
   "source": [
    "url = \"https://www.douban.com\""
   ]
  },
  {
   "cell_type": "code",
   "execution_count": 3,
   "metadata": {
    "collapsed": false
   },
   "outputs": [],
   "source": [
    "html = requests.get(url)"
   ]
  },
  {
   "cell_type": "code",
   "execution_count": 4,
   "metadata": {
    "collapsed": false
   },
   "outputs": [
    {
     "data": {
      "text/plain": [
       "{'Server': 'dae', 'Content-Encoding': 'gzip', 'X-Xss-Protection': '1; mode=block', 'X-DAE-Node': 'sindar21c', 'X-DAE-App': 'sns', 'Set-Cookie': 'll=\"118099\"; path=/; domain=.douban.com; expires=Sat, 23-Dec-2017 06:16:22 GMT, bid=Ee9W48ngyMg; Expires=Sat, 23-Dec-17 06:16:22 GMT; Domain=.douban.com; Path=/', 'Expires': 'Sun, 1 Jan 2006 01:00:00 GMT', 'Vary': 'Accept-Encoding', 'X-DOUBAN-NEWBID': 'Ee9W48ngyMg', 'Cache-Control': 'must-revalidate, no-cache, private', 'Pragma': 'no-cache', 'X-Douban-Mobileapp': '0', 'Content-Type': 'text/html; charset=utf-8', 'Keep-Alive': 'timeout=30', 'Connection': 'keep-alive', 'Strict-Transport-Security': 'max-age=15552000;', 'Date': 'Fri, 23 Dec 2016 06:16:22 GMT', 'Transfer-Encoding': 'chunked'}"
      ]
     },
     "execution_count": 4,
     "metadata": {},
     "output_type": "execute_result"
    }
   ],
   "source": [
    "html.headers"
   ]
  },
  {
   "cell_type": "code",
   "execution_count": 5,
   "metadata": {
    "collapsed": false
   },
   "outputs": [
    {
     "name": "stdout",
     "output_type": "stream",
     "text": [
      "Date: Fri, 23 Dec 2016 06:16:22 GMT\n",
      "Content-Type: text/html; charset=utf-8\n",
      "Transfer-Encoding: chunked\n",
      "Connection: keep-alive\n",
      "Keep-Alive: timeout=30\n",
      "Vary: Accept-Encoding\n",
      "X-Xss-Protection: 1; mode=block\n",
      "X-Douban-Mobileapp: 0\n",
      "Expires: Sun, 1 Jan 2006 01:00:00 GMT\n",
      "Pragma: no-cache\n",
      "Cache-Control: must-revalidate, no-cache, private\n",
      "Set-Cookie: ll=\"118099\"; path=/; domain=.douban.com; expires=Sat, 23-Dec-2017 06:16:22 GMT, bid=Ee9W48ngyMg; Expires=Sat, 23-Dec-17 06:16:22 GMT; Domain=.douban.com; Path=/\n",
      "X-DOUBAN-NEWBID: Ee9W48ngyMg\n",
      "X-DAE-Node: sindar21c\n",
      "X-DAE-App: sns\n",
      "Content-Encoding: gzip\n",
      "Server: dae\n",
      "Strict-Transport-Security: max-age=15552000;\n"
     ]
    }
   ],
   "source": [
    "for key, value in html.headers.items():\n",
    "    print(\"%s: %s\" %(key, value))"
   ]
  },
  {
   "cell_type": "code",
   "execution_count": 8,
   "metadata": {
    "collapsed": false
   },
   "outputs": [],
   "source": [
    "bsObj = BeautifulSoup(html.text, \"lxml\")"
   ]
  },
  {
   "cell_type": "code",
   "execution_count": null,
   "metadata": {
    "collapsed": false
   },
   "outputs": [],
   "source": []
  },
  {
   "cell_type": "code",
   "execution_count": null,
   "metadata": {
    "collapsed": true
   },
   "outputs": [],
   "source": []
  }
 ],
 "metadata": {
  "anaconda-cloud": {},
  "kernelspec": {
   "display_name": "Python [conda root]",
   "language": "python",
   "name": "conda-root-py"
  },
  "language_info": {
   "codemirror_mode": {
    "name": "ipython",
    "version": 3
   },
   "file_extension": ".py",
   "mimetype": "text/x-python",
   "name": "python",
   "nbconvert_exporter": "python",
   "pygments_lexer": "ipython3",
   "version": "3.5.2"
  }
 },
 "nbformat": 4,
 "nbformat_minor": 0
}
