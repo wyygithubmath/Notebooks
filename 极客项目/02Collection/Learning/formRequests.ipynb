{
 "cells": [
  {
   "cell_type": "markdown",
   "metadata": {},
   "source": [
    "## Requests\n",
    "parms\n",
    "1. get\n",
    "2. post\n",
    "3. session"
   ]
  },
  {
   "cell_type": "code",
   "execution_count": 16,
   "metadata": {
    "collapsed": true
   },
   "outputs": [],
   "source": [
    "import requests\n",
    "from bs4 import BeautifulSoup"
   ]
  },
  {
   "cell_type": "code",
   "execution_count": 34,
   "metadata": {
    "collapsed": true
   },
   "outputs": [],
   "source": [
    "parms = {'q': '康德' }"
   ]
  },
  {
   "cell_type": "code",
   "execution_count": 35,
   "metadata": {
    "collapsed": true
   },
   "outputs": [],
   "source": [
    "url = \"https://www.douban.com/search\""
   ]
  },
  {
   "cell_type": "code",
   "execution_count": 36,
   "metadata": {
    "collapsed": true
   },
   "outputs": [],
   "source": [
    "r = requests.get(url, params=parms)"
   ]
  },
  {
   "cell_type": "code",
   "execution_count": 37,
   "metadata": {
    "collapsed": false
   },
   "outputs": [],
   "source": [
    "bs4 = BeautifulSoup(r.text, 'lxml')"
   ]
  },
  {
   "cell_type": "code",
   "execution_count": 38,
   "metadata": {
    "collapsed": false
   },
   "outputs": [],
   "source": [
    "linkList = bs4.find('div', {'class': 'search-cate'})"
   ]
  },
  {
   "cell_type": "code",
   "execution_count": 41,
   "metadata": {
    "collapsed": false
   },
   "outputs": [
    {
     "name": "stdout",
     "output_type": "stream",
     "text": [
      "/search?q=%E5%BA%B7%E5%BE%B7\n",
      "/search?cat=1025&q=%E5%BA%B7%E5%BE%B7\n",
      "/search?cat=1005&q=%E5%BA%B7%E5%BE%B7\n",
      "/search?cat=1019&q=%E5%BA%B7%E5%BE%B7\n",
      "/search?cat=2012&q=%E5%BA%B7%E5%BE%B7\n",
      "/search?cat=1001&q=%E5%BA%B7%E5%BE%B7\n",
      "/search?cat=1002&q=%E5%BA%B7%E5%BE%B7\n",
      "/search?cat=1003&q=%E5%BA%B7%E5%BE%B7\n",
      "/search?cat=3114&q=%E5%BA%B7%E5%BE%B7\n",
      "/search?cat=3065&q=%E5%BA%B7%E5%BE%B7\n",
      "/search?cat=1015&q=%E5%BA%B7%E5%BE%B7\n",
      "/search?cat=8018&q=%E5%BA%B7%E5%BE%B7\n",
      "/search?cat=3069&q=%E5%BA%B7%E5%BE%B7\n",
      "/search?cat=1011&q=%E5%BA%B7%E5%BE%B7\n",
      "/search?cat=3064&q=%E5%BA%B7%E5%BE%B7\n"
     ]
    }
   ],
   "source": [
    "for item in linkList.find_all('a'):\n",
    "    print(item.attrs['href'])"
   ]
  },
  {
   "cell_type": "code",
   "execution_count": null,
   "metadata": {
    "collapsed": true
   },
   "outputs": [],
   "source": []
  }
 ],
 "metadata": {
  "anaconda-cloud": {},
  "kernelspec": {
   "display_name": "Python [conda root]",
   "language": "python",
   "name": "conda-root-py"
  },
  "language_info": {
   "codemirror_mode": {
    "name": "ipython",
    "version": 3
   },
   "file_extension": ".py",
   "mimetype": "text/x-python",
   "name": "python",
   "nbconvert_exporter": "python",
   "pygments_lexer": "ipython3",
   "version": "3.5.2"
  }
 },
 "nbformat": 4,
 "nbformat_minor": 1
}
